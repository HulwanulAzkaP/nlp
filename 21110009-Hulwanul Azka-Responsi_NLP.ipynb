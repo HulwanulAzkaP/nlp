{
 "cells": [
  {
   "cell_type": "markdown",
   "id": "f42342b1",
   "metadata": {},
   "source": [
    "#Evaluasi CPMK 1 dan  "
   ]
  },
  {
   "cell_type": "markdown",
   "id": "7477c004",
   "metadata": {},
   "source": [
    "# Soal 1"
   ]
  },
  {
   "attachments": {},
   "cell_type": "markdown",
   "id": "f362331b",
   "metadata": {},
   "source": [
    "<br>1.CPMK1- Sub CPMK1.1( bobot : 10 )\n",
    "<br>Lakukan crawling data teks dari media sosial/ web dan simpan hasilnya dalam bentuk excel/csv.\n",
    "<br>Setiap mahasiswa harus melakukan crawling dengan kata kunci tertentu.\n",
    "<br>Kata kunci tidak boleh sama dengan mahasiswa lainnya. "
   ]
  },
  {
   "cell_type": "code",
   "execution_count": 1,
   "id": "dd43d727",
   "metadata": {},
   "outputs": [
    {
     "name": "stdout",
     "output_type": "stream",
     "text": [
      "Requirement already satisfied: google-play-scraper in c:\\users\\raffi\\appdata\\local\\packages\\pythonsoftwarefoundation.python.3.11_qbz5n2kfra8p0\\localcache\\local-packages\\python311\\site-packages (1.2.4)"
     ]
    },
    {
     "name": "stderr",
     "output_type": "stream",
     "text": [
      "\n",
      "[notice] A new release of pip is available: 23.2.1 -> 23.3\n",
      "[notice] To update, run: C:\\Users\\raffi\\AppData\\Local\\Microsoft\\WindowsApps\\PythonSoftwareFoundation.Python.3.11_qbz5n2kfra8p0\\python.exe -m pip install --upgrade pip\n"
     ]
    },
    {
     "name": "stdout",
     "output_type": "stream",
     "text": [
      "\n"
     ]
    }
   ],
   "source": [
    "!pip install google-play-scraper"
   ]
  },
  {
   "cell_type": "code",
   "execution_count": 2,
   "id": "71cf68ff",
   "metadata": {},
   "outputs": [],
   "source": [
    "from google_play_scraper import app,Sort, reviews\n",
    "import pandas as pd\n",
    "import numpy as np\n",
    "import matplotlib.pyplot as plt"
   ]
  },
  {
   "cell_type": "code",
   "execution_count": 3,
   "id": "ed2b47c1",
   "metadata": {},
   "outputs": [],
   "source": [
    "result, continuation_token = reviews(\n",
    "    'com.nianticlabs.pokemongo', # App ID from Google play store / Id Aplikasi yang didapatkan melalui google play store\n",
    "    lang='id', # defaults to 'en' Language Setting // parameter bahasa yang akan di scrape\n",
    "    country='id', # defaults to 'us' Country Setting // parameter negara pemberi ulasan\n",
    "    sort=Sort.NEWEST, # defaults to Sort.NEWEST Sorting Methods / metode sorting yang akan digunakan\n",
    "    count=100, # defaults to 100 || Reviews Counts // Banyaknya ulasan yang akan discrape\n",
    "    filter_score_with=None # defaults to None(means all score) || Score Filter / Rating\n",
    ")\n",
    "\n",
    "# If you pass continuation_token as an argument to the reviews function at this point,\n",
    "# it will crawl the items after 3 review items.\n",
    "\n",
    "result, _ = reviews(\n",
    "    'com.nianticlabs.pokemongo',\n",
    "    continuation_token=continuation_token # defaults to None(load from the beginning)\n",
    ")"
   ]
  },
  {
   "cell_type": "code",
   "execution_count": 4,
   "id": "f94a5dd2",
   "metadata": {},
   "outputs": [],
   "source": [
    "data = pd.DataFrame(np.array(result),columns=['reviews']) # Creating Dataframe using the result response from the google play store api\n",
    "data = data.join(pd.DataFrame(data.pop('reviews').tolist())) # Destructuring the reviews columns into their own attribute based on the result response"
   ]
  },
  {
   "cell_type": "code",
   "execution_count": 5,
   "id": "3c831bcd",
   "metadata": {},
   "outputs": [
    {
     "data": {
      "text/html": [
       "<div>\n",
       "<style scoped>\n",
       "    .dataframe tbody tr th:only-of-type {\n",
       "        vertical-align: middle;\n",
       "    }\n",
       "\n",
       "    .dataframe tbody tr th {\n",
       "        vertical-align: top;\n",
       "    }\n",
       "\n",
       "    .dataframe thead th {\n",
       "        text-align: right;\n",
       "    }\n",
       "</style>\n",
       "<table border=\"1\" class=\"dataframe\">\n",
       "  <thead>\n",
       "    <tr style=\"text-align: right;\">\n",
       "      <th></th>\n",
       "      <th>reviewId</th>\n",
       "      <th>userName</th>\n",
       "      <th>userImage</th>\n",
       "      <th>content</th>\n",
       "      <th>score</th>\n",
       "      <th>thumbsUpCount</th>\n",
       "      <th>reviewCreatedVersion</th>\n",
       "      <th>at</th>\n",
       "      <th>replyContent</th>\n",
       "      <th>repliedAt</th>\n",
       "      <th>appVersion</th>\n",
       "    </tr>\n",
       "  </thead>\n",
       "  <tbody>\n",
       "    <tr>\n",
       "      <th>0</th>\n",
       "      <td>b84bd8c7-1632-4b13-a70b-eac26b3d4b4e</td>\n",
       "      <td>gideon gerrardo</td>\n",
       "      <td>https://play-lh.googleusercontent.com/a/ACg8oc...</td>\n",
       "      <td>Game ini seru tq kalau mau lawan rain harus da...</td>\n",
       "      <td>4</td>\n",
       "      <td>0</td>\n",
       "      <td>0.281.3</td>\n",
       "      <td>2023-09-08 16:20:34</td>\n",
       "      <td>None</td>\n",
       "      <td>None</td>\n",
       "      <td>0.281.3</td>\n",
       "    </tr>\n",
       "    <tr>\n",
       "      <th>1</th>\n",
       "      <td>f9b39973-ea30-4fef-aa62-a12b6891638f</td>\n",
       "      <td>Kak Revolusio</td>\n",
       "      <td>https://play-lh.googleusercontent.com/a-/ALV-U...</td>\n",
       "      <td>developer membuat algoritma agar sulit mendapa...</td>\n",
       "      <td>1</td>\n",
       "      <td>2</td>\n",
       "      <td>0.277.3</td>\n",
       "      <td>2023-08-10 21:34:13</td>\n",
       "      <td>None</td>\n",
       "      <td>None</td>\n",
       "      <td>0.277.3</td>\n",
       "    </tr>\n",
       "    <tr>\n",
       "      <th>2</th>\n",
       "      <td>15659181-0424-436a-8a10-c3e5481072d8</td>\n",
       "      <td>Ahmad Ma'rup</td>\n",
       "      <td>https://play-lh.googleusercontent.com/a/ACg8oc...</td>\n",
       "      <td>Suka ngelag tiba². Klau lagi bertarung sinyal ...</td>\n",
       "      <td>1</td>\n",
       "      <td>25</td>\n",
       "      <td>0.275.0</td>\n",
       "      <td>2023-06-28 16:45:23</td>\n",
       "      <td>None</td>\n",
       "      <td>None</td>\n",
       "      <td>0.275.0</td>\n",
       "    </tr>\n",
       "    <tr>\n",
       "      <th>3</th>\n",
       "      <td>9d980ec5-4cea-4c06-a4c0-5534ac3642ff</td>\n",
       "      <td>Hendra Firmansyah</td>\n",
       "      <td>https://play-lh.googleusercontent.com/a/ACg8oc...</td>\n",
       "      <td>Game sampah,udh gak seseru dulu lg.sering bane...</td>\n",
       "      <td>1</td>\n",
       "      <td>0</td>\n",
       "      <td>0.285.1</td>\n",
       "      <td>2023-10-14 01:25:59</td>\n",
       "      <td>None</td>\n",
       "      <td>None</td>\n",
       "      <td>0.285.1</td>\n",
       "    </tr>\n",
       "    <tr>\n",
       "      <th>4</th>\n",
       "      <td>4ce48972-f742-42cd-b97b-e7f0c8de3cee</td>\n",
       "      <td>27-Muhamad Yardan habibi</td>\n",
       "      <td>https://play-lh.googleusercontent.com/a/ACg8oc...</td>\n",
       "      <td>Tambah kan fitur chat dengan teman</td>\n",
       "      <td>1</td>\n",
       "      <td>0</td>\n",
       "      <td>0.279.3</td>\n",
       "      <td>2023-09-01 12:24:56</td>\n",
       "      <td>None</td>\n",
       "      <td>None</td>\n",
       "      <td>0.279.3</td>\n",
       "    </tr>\n",
       "    <tr>\n",
       "      <th>...</th>\n",
       "      <td>...</td>\n",
       "      <td>...</td>\n",
       "      <td>...</td>\n",
       "      <td>...</td>\n",
       "      <td>...</td>\n",
       "      <td>...</td>\n",
       "      <td>...</td>\n",
       "      <td>...</td>\n",
       "      <td>...</td>\n",
       "      <td>...</td>\n",
       "      <td>...</td>\n",
       "    </tr>\n",
       "    <tr>\n",
       "      <th>95</th>\n",
       "      <td>a98424ef-e91c-4085-a340-f927a11c47be</td>\n",
       "      <td>Prima Rahardjo Khudori</td>\n",
       "      <td>https://play-lh.googleusercontent.com/a-/ALV-U...</td>\n",
       "      <td>sementara baru dua semenjak update malah banya...</td>\n",
       "      <td>2</td>\n",
       "      <td>1</td>\n",
       "      <td>0.277.0</td>\n",
       "      <td>2023-07-14 12:27:18</td>\n",
       "      <td>None</td>\n",
       "      <td>None</td>\n",
       "      <td>0.277.0</td>\n",
       "    </tr>\n",
       "    <tr>\n",
       "      <th>96</th>\n",
       "      <td>d6cc0b0c-861f-4f56-82fd-f5f47854c9d1</td>\n",
       "      <td>M. Riski Fadillah</td>\n",
       "      <td>https://play-lh.googleusercontent.com/a-/ALV-U...</td>\n",
       "      <td>Cara login nya susah banget, dulu gak kaya gin...</td>\n",
       "      <td>1</td>\n",
       "      <td>0</td>\n",
       "      <td>None</td>\n",
       "      <td>2023-08-25 19:38:55</td>\n",
       "      <td>None</td>\n",
       "      <td>None</td>\n",
       "      <td>None</td>\n",
       "    </tr>\n",
       "    <tr>\n",
       "      <th>97</th>\n",
       "      <td>cc411d0f-9667-4848-9c89-371745b585a6</td>\n",
       "      <td>Pengguna Google</td>\n",
       "      <td>https://play-lh.googleusercontent.com/EGemoI2N...</td>\n",
       "      <td>tolong niantic buat pogonya ada pakai joystick...</td>\n",
       "      <td>5</td>\n",
       "      <td>2</td>\n",
       "      <td>0.119.4</td>\n",
       "      <td>2018-10-16 21:47:21</td>\n",
       "      <td>None</td>\n",
       "      <td>None</td>\n",
       "      <td>0.119.4</td>\n",
       "    </tr>\n",
       "    <tr>\n",
       "      <th>98</th>\n",
       "      <td>b8c999a0-d3e9-4faf-927c-5d847d2d78c9</td>\n",
       "      <td>Pengguna Google</td>\n",
       "      <td>https://play-lh.googleusercontent.com/EGemoI2N...</td>\n",
       "      <td>Agak sulit sih, juga tidak disesuaikan disetia...</td>\n",
       "      <td>4</td>\n",
       "      <td>150</td>\n",
       "      <td>0.163.2</td>\n",
       "      <td>2019-12-22 15:42:35</td>\n",
       "      <td>None</td>\n",
       "      <td>None</td>\n",
       "      <td>0.163.2</td>\n",
       "    </tr>\n",
       "    <tr>\n",
       "      <th>99</th>\n",
       "      <td>c2997f22-0c33-49bb-bc99-8ab547f2d5d9</td>\n",
       "      <td>092_Lovindo Aira</td>\n",
       "      <td>https://play-lh.googleusercontent.com/a-/ALV-U...</td>\n",
       "      <td>Nih saya kasih tips buat yang kesulitan seputa...</td>\n",
       "      <td>5</td>\n",
       "      <td>1399</td>\n",
       "      <td>0.181.0</td>\n",
       "      <td>2020-07-16 23:40:42</td>\n",
       "      <td>None</td>\n",
       "      <td>None</td>\n",
       "      <td>0.181.0</td>\n",
       "    </tr>\n",
       "  </tbody>\n",
       "</table>\n",
       "<p>100 rows × 11 columns</p>\n",
       "</div>"
      ],
      "text/plain": [
       "                                reviewId                  userName  \\\n",
       "0   b84bd8c7-1632-4b13-a70b-eac26b3d4b4e           gideon gerrardo   \n",
       "1   f9b39973-ea30-4fef-aa62-a12b6891638f             Kak Revolusio   \n",
       "2   15659181-0424-436a-8a10-c3e5481072d8              Ahmad Ma'rup   \n",
       "3   9d980ec5-4cea-4c06-a4c0-5534ac3642ff         Hendra Firmansyah   \n",
       "4   4ce48972-f742-42cd-b97b-e7f0c8de3cee  27-Muhamad Yardan habibi   \n",
       "..                                   ...                       ...   \n",
       "95  a98424ef-e91c-4085-a340-f927a11c47be    Prima Rahardjo Khudori   \n",
       "96  d6cc0b0c-861f-4f56-82fd-f5f47854c9d1         M. Riski Fadillah   \n",
       "97  cc411d0f-9667-4848-9c89-371745b585a6           Pengguna Google   \n",
       "98  b8c999a0-d3e9-4faf-927c-5d847d2d78c9           Pengguna Google   \n",
       "99  c2997f22-0c33-49bb-bc99-8ab547f2d5d9          092_Lovindo Aira   \n",
       "\n",
       "                                            userImage  \\\n",
       "0   https://play-lh.googleusercontent.com/a/ACg8oc...   \n",
       "1   https://play-lh.googleusercontent.com/a-/ALV-U...   \n",
       "2   https://play-lh.googleusercontent.com/a/ACg8oc...   \n",
       "3   https://play-lh.googleusercontent.com/a/ACg8oc...   \n",
       "4   https://play-lh.googleusercontent.com/a/ACg8oc...   \n",
       "..                                                ...   \n",
       "95  https://play-lh.googleusercontent.com/a-/ALV-U...   \n",
       "96  https://play-lh.googleusercontent.com/a-/ALV-U...   \n",
       "97  https://play-lh.googleusercontent.com/EGemoI2N...   \n",
       "98  https://play-lh.googleusercontent.com/EGemoI2N...   \n",
       "99  https://play-lh.googleusercontent.com/a-/ALV-U...   \n",
       "\n",
       "                                              content  score  thumbsUpCount  \\\n",
       "0   Game ini seru tq kalau mau lawan rain harus da...      4              0   \n",
       "1   developer membuat algoritma agar sulit mendapa...      1              2   \n",
       "2   Suka ngelag tiba². Klau lagi bertarung sinyal ...      1             25   \n",
       "3   Game sampah,udh gak seseru dulu lg.sering bane...      1              0   \n",
       "4                  Tambah kan fitur chat dengan teman      1              0   \n",
       "..                                                ...    ...            ...   \n",
       "95  sementara baru dua semenjak update malah banya...      2              1   \n",
       "96  Cara login nya susah banget, dulu gak kaya gin...      1              0   \n",
       "97  tolong niantic buat pogonya ada pakai joystick...      5              2   \n",
       "98  Agak sulit sih, juga tidak disesuaikan disetia...      4            150   \n",
       "99  Nih saya kasih tips buat yang kesulitan seputa...      5           1399   \n",
       "\n",
       "   reviewCreatedVersion                  at replyContent repliedAt appVersion  \n",
       "0               0.281.3 2023-09-08 16:20:34         None      None    0.281.3  \n",
       "1               0.277.3 2023-08-10 21:34:13         None      None    0.277.3  \n",
       "2               0.275.0 2023-06-28 16:45:23         None      None    0.275.0  \n",
       "3               0.285.1 2023-10-14 01:25:59         None      None    0.285.1  \n",
       "4               0.279.3 2023-09-01 12:24:56         None      None    0.279.3  \n",
       "..                  ...                 ...          ...       ...        ...  \n",
       "95              0.277.0 2023-07-14 12:27:18         None      None    0.277.0  \n",
       "96                 None 2023-08-25 19:38:55         None      None       None  \n",
       "97              0.119.4 2018-10-16 21:47:21         None      None    0.119.4  \n",
       "98              0.163.2 2019-12-22 15:42:35         None      None    0.163.2  \n",
       "99              0.181.0 2020-07-16 23:40:42         None      None    0.181.0  \n",
       "\n",
       "[100 rows x 11 columns]"
      ]
     },
     "execution_count": 5,
     "metadata": {},
     "output_type": "execute_result"
    }
   ],
   "source": [
    "data"
   ]
  },
  {
   "cell_type": "code",
   "execution_count": 6,
   "id": "93e295a6",
   "metadata": {},
   "outputs": [],
   "source": [
    "data.to_csv('pokemon.csv')"
   ]
  },
  {
   "cell_type": "markdown",
   "id": "5e1ab301",
   "metadata": {},
   "source": [
    "# Soal 2"
   ]
  },
  {
   "cell_type": "markdown",
   "id": "b1335850",
   "metadata": {},
   "source": [
    "<br>Lakukan pembersihan meliputi penghapusan punctuation, angka dan karakter yang tidak penting menggunakan menggunakan regex.\n",
    "<br>Simpan hasilnya menjadi file csv/excel.\n"
   ]
  },
  {
   "cell_type": "code",
   "execution_count": 7,
   "id": "0735d487",
   "metadata": {},
   "outputs": [
    {
     "name": "stdout",
     "output_type": "stream",
     "text": [
      "Hasil pembersihan teks disimpan dalam C:/Users/raffi/Downloads/Praktikum NLP/pokemon_clean.csv\n"
     ]
    }
   ],
   "source": [
    "import pandas as pd\n",
    "import re\n",
    "\n",
    "# Fungsi untuk membersihkan teks menggunakan regex\n",
    "def clean_text(text):\n",
    "    cleaned_text = re.sub(r'[^a-zA-Z\\s]', '', text)\n",
    "    return cleaned_text\n",
    "\n",
    "# Baca file CSV\n",
    "file_path = 'C:/Users/raffi/Downloads/Praktikum NLP/pokemon.csv'\n",
    "output_file_path = 'C:/Users/raffi/Downloads/Praktikum NLP/pokemon_clean.csv'\n",
    "\n",
    "# Baca file CSV ke dalam DataFrame\n",
    "df = pd.read_csv(file_path)\n",
    "\n",
    "# Membersihkan kolom \"content\"\n",
    "df['content'] = df['content'].apply(clean_text)\n",
    "\n",
    "# Simpan DataFrame yang sudah dibersihkan ke dalam file CSV\n",
    "df.to_csv(output_file_path, index=False)\n",
    "\n",
    "print(f\"Hasil pembersihan teks disimpan dalam {output_file_path}\")"
   ]
  },
  {
   "cell_type": "markdown",
   "id": "b5935b39",
   "metadata": {},
   "source": [
    "# Soal 3a"
   ]
  },
  {
   "cell_type": "markdown",
   "id": "3511c137",
   "metadata": {},
   "source": [
    "a.\tLakukan parsing dan simpan hasilnya dalam bentuk excel/csv (bobot:10)"
   ]
  },
  {
   "cell_type": "code",
   "execution_count": 8,
   "id": "c8e32db7",
   "metadata": {},
   "outputs": [
    {
     "name": "stdout",
     "output_type": "stream",
     "text": [
      "Hasil parsing disimpan dalam C:/Users/raffi/Downloads/Praktikum NLP/pokemon_parsed.csv\n"
     ]
    }
   ],
   "source": [
    "import pandas as pd\n",
    "\n",
    "# Fungsi untuk melakukan parsing\n",
    "def parse_content(text):\n",
    "    # Contoh parsing: misalnya, kita ingin mengambil kata pertama dari teks\n",
    "    words = text.split()  # Memisahkan kata-kata dalam teks\n",
    "    if words:\n",
    "        parsed_result = words[0]  # Mengambil kata pertama\n",
    "    else:\n",
    "        parsed_result = ''  # Jika teks kosong, mengembalikan string kosong\n",
    "    return parsed_result\n",
    "\n",
    "# Baca file CSV\n",
    "input_file_path = 'C:/Users/raffi/Downloads/Praktikum NLP/pokemon.csv'\n",
    "output_file_path = 'C:/Users/raffi/Downloads/Praktikum NLP/pokemon_parsed.csv'\n",
    "\n",
    "# Baca file CSV ke dalam DataFrame\n",
    "df = pd.read_csv(input_file_path)\n",
    "\n",
    "# Lakukan parsing pada kolom \"content\" dan simpan hasilnya dalam kolom \"parsed_content\"\n",
    "df['parsed_content'] = df['content'].apply(parse_content)\n",
    "\n",
    "# Simpan DataFrame yang sudah di-parse ke dalam file CSV\n",
    "df.to_csv(output_file_path, index=False)\n",
    "\n",
    "print(f\"Hasil parsing disimpan dalam {output_file_path}\")\n"
   ]
  },
  {
   "cell_type": "markdown",
   "id": "520fcef0",
   "metadata": {},
   "source": [
    "# Soal 3b"
   ]
  },
  {
   "attachments": {},
   "cell_type": "markdown",
   "id": "5c2d0c1e",
   "metadata": {},
   "source": [
    "b.Carilah kata-kata slangword yang ada dalam dataset Anda, dengan cara mencocokan dengan kamus KBBI (terlampir). \n",
    "<br>Simpan hasilnya dalam bentuk csv/excel.\n",
    "<br> Tampilkan 100 kata slang yang Anda dapatkan dan tampilkan dalam bentuk Gunakan (bobot:25)"
   ]
  },
  {
   "cell_type": "code",
   "execution_count": 45,
   "id": "b41a42a1",
   "metadata": {},
   "outputs": [],
   "source": [
    "import requests\n",
    "\n",
    "# URL kamus slang Bahasa Indonesia di GitHub\n",
    "url = 'https://raw.githubusercontent.com/nasalsabila/kamus-alay/master/colloquial-indonesian-lexicon.csv'\n",
    "\n",
    "# Unduh kamus slang\n",
    "response = requests.get(url)\n",
    "\n",
    "# Simpan kamus dalam berkas CSV\n",
    "with open('slangwords.csv', 'wb') as file:\n",
    "    file.write(response.content)"
   ]
  },
  {
   "cell_type": "code",
   "execution_count": 46,
   "id": "aae11acd",
   "metadata": {},
   "outputs": [],
   "source": [
    "import pandas as pd\n",
    "\n",
    "# Baca kamus slangwords dari file CSV\n",
    "slangwords_df = pd.read_csv('slangwords.csv')\n",
    "\n",
    "# Ambil kata-kata slang dari kolom \"kata slang\"\n",
    "slangwords = slangwords_df['slang'].tolist()\n"
   ]
  },
  {
   "cell_type": "code",
   "execution_count": 47,
   "id": "918b7383",
   "metadata": {},
   "outputs": [],
   "source": [
    "# Baca dataset \"pokemon_clean.csv\" yang berisi kolom \"content\"\n",
    "pokemon_df = pd.read_csv('pokemon_clean.csv')\n",
    "\n",
    "# Kolom \"content\" dalam dataset berisi teks yang ingin diperiksa\n",
    "content_column = pokemon_df['content'].tolist()"
   ]
  },
  {
   "cell_type": "code",
   "execution_count": 48,
   "id": "90d5b7a7",
   "metadata": {},
   "outputs": [],
   "source": [
    "# Mencari kata-kata slang dalam kolom \"content\"\n",
    "slang_found = [word for word in content_column if word in slangwords]"
   ]
  },
  {
   "cell_type": "code",
   "execution_count": 49,
   "id": "75d1f20b",
   "metadata": {},
   "outputs": [],
   "source": [
    "# Buat DataFrame dengan kata-kata slang yang ditemukan\n",
    "slang_found_df = pd.DataFrame({'Kata Slang': slang_found})\n",
    "\n",
    "# Simpan hasilnya ke dalam file CSV atau Excel\n",
    "slang_found_df.to_csv('slang_found_pokemon.csv', index=False)"
   ]
  },
  {
   "cell_type": "markdown",
   "id": "9562cecb",
   "metadata": {},
   "source": [
    "# Soal 3c"
   ]
  },
  {
   "attachments": {},
   "cell_type": "markdown",
   "id": "544d5476",
   "metadata": {},
   "source": [
    "c.Lakukan tokenizing berdasarkan  hasil 3b, simpan hasilnya dalam bentuk csv/excel  dan tampilkan 100 token pertama. (bobot:10)"
   ]
  },
  {
   "cell_type": "code",
   "execution_count": 30,
   "id": "9c8e4b82",
   "metadata": {},
   "outputs": [],
   "source": [
    "import pandas as pd\n",
    "import nltk\n",
    "from nltk.tokenize import word_tokenize\n",
    "\n",
    "# Baca kamus slangwords dari file CSV\n",
    "slangwords_df = pd.read_csv('slangwords.csv')\n",
    "\n",
    "# Ambil kata-kata slang dari kolom \"kata slang\"\n",
    "slangwords = slangwords_df['kata slang'].tolist()\n"
   ]
  },
  {
   "cell_type": "code",
   "execution_count": 31,
   "id": "6298826e",
   "metadata": {},
   "outputs": [],
   "source": [
    "# Baca dataset \"pokemon_clean.csv\" yang berisi kolom \"content\"\n",
    "pokemon_df = pd.read_csv('pokemon_clean.csv')\n",
    "\n",
    "# Kolom \"content\" dalam dataset berisi teks yang ingin diperiksa\n",
    "content_column = pokemon_df['content'].tolist()\n"
   ]
  },
  {
   "cell_type": "code",
   "execution_count": 32,
   "id": "31dd408c",
   "metadata": {},
   "outputs": [],
   "source": [
    "# Mencari kata-kata slang dalam kolom \"content\"\n",
    "slang_found = [word for word in content_column if word in slangwords]"
   ]
  },
  {
   "cell_type": "code",
   "execution_count": 33,
   "id": "252278d2",
   "metadata": {},
   "outputs": [],
   "source": [
    "# Tokenisasi kata-kata slang\n",
    "tokenized_slang = [word_tokenize(word) for word in slang_found]"
   ]
  },
  {
   "cell_type": "code",
   "execution_count": 34,
   "id": "7bc71081",
   "metadata": {},
   "outputs": [],
   "source": [
    "# Buat DataFrame dengan tokenized slang\n",
    "tokenized_slang_df = pd.DataFrame({'Tokenized Slang': tokenized_slang})\n",
    "\n",
    "# Simpan hasilnya ke dalam file CSV\n",
    "tokenized_slang_df.to_csv('tokenized_slang_pokemon.csv', index=False)"
   ]
  },
  {
   "cell_type": "code",
   "execution_count": 35,
   "id": "1c22d5ca",
   "metadata": {},
   "outputs": [
    {
     "name": "stdout",
     "output_type": "stream",
     "text": [
      "100 Token Pertama:\n"
     ]
    }
   ],
   "source": [
    "print(\"100 Token Pertama:\")\n",
    "for i, tokens in enumerate(tokenized_slang[:100]):\n",
    "    print(f\"{i+1}: {tokens}\")"
   ]
  },
  {
   "cell_type": "markdown",
   "id": "015b05cc",
   "metadata": {},
   "source": [
    "# Soal 3d"
   ]
  },
  {
   "attachments": {},
   "cell_type": "markdown",
   "id": "f95f7e6f",
   "metadata": {},
   "source": [
    "d.Lakukan stopword removing  berdasarkan hasil 3c, simpan hasilnya dalam bentuk csv/excel. (bobot:10)!"
   ]
  },
  {
   "cell_type": "code",
   "execution_count": 36,
   "id": "208095b5",
   "metadata": {},
   "outputs": [],
   "source": [
    "import pandas as pd\n",
    "import nltk\n",
    "from nltk.corpus import stopwords\n",
    "from nltk.tokenize import word_tokenize\n",
    "\n",
    "# Baca kamus slangwords dari file CSV\n",
    "slangwords_df = pd.read_csv('slangwords.csv')\n",
    "\n",
    "# Ambil kata-kata slang dari kolom \"kata slang\"\n",
    "slangwords = slangwords_df['kata slang'].tolist()\n",
    "\n",
    "# Tokenisasi kata-kata slang\n",
    "tokenized_slang = [word_tokenize(word) for word in slang_found]\n"
   ]
  },
  {
   "cell_type": "code",
   "execution_count": 37,
   "id": "e2d47b3f",
   "metadata": {},
   "outputs": [
    {
     "name": "stderr",
     "output_type": "stream",
     "text": [
      "[nltk_data] Downloading package stopwords to\n",
      "[nltk_data]     C:\\Users\\raffi\\AppData\\Roaming\\nltk_data...\n",
      "[nltk_data]   Unzipping corpora\\stopwords.zip.\n"
     ]
    }
   ],
   "source": [
    "# Mengunduh daftar stopwords bahasa Indonesia jika belum ada\n",
    "nltk.download('stopwords')\n",
    "\n",
    "# Ambil daftar _stopwords_ bahasa Indonesia\n",
    "stop_words = set(stopwords.words('indonesian'))\n",
    "\n",
    "# Hapus _stopwords_ dari tokenisasi\n",
    "filtered_tokens = []\n",
    "for tokens in tokenized_slang:\n",
    "    filtered_tokens.append([word for word in tokens if word.lower() not in stop_words])"
   ]
  },
  {
   "cell_type": "code",
   "execution_count": 38,
   "id": "5179b5a1",
   "metadata": {},
   "outputs": [],
   "source": [
    "# Buat DataFrame dengan hasil _stopword removal_\n",
    "filtered_tokens_df = pd.DataFrame({'Filtered Tokens': [' '.join(tokens) for tokens in filtered_tokens]})\n",
    "\n",
    "# Simpan hasilnya ke dalam file CSV\n",
    "filtered_tokens_df.to_csv('filtered_tokens_pokemon.csv', index=False)"
   ]
  },
  {
   "cell_type": "markdown",
   "id": "fc76bb46",
   "metadata": {},
   "source": [
    "# Soal 3e"
   ]
  },
  {
   "cell_type": "markdown",
   "id": "c03bd8b5",
   "metadata": {},
   "source": [
    "e.Lakukan stemming berdasarkan hasil 3d dan tampilkan 100 stem pertama. (bobot:10)"
   ]
  },
  {
   "cell_type": "code",
   "execution_count": 50,
   "id": "cf252696",
   "metadata": {},
   "outputs": [],
   "source": [
    "import nltk\n",
    "from nltk.stem import PorterStemmer\n",
    "from nltk.corpus import stopwords\n"
   ]
  },
  {
   "cell_type": "code",
   "execution_count": 51,
   "id": "e3663aaf",
   "metadata": {},
   "outputs": [],
   "source": [
    "stemmer = PorterStemmer()\n"
   ]
  },
  {
   "cell_type": "code",
   "execution_count": 52,
   "id": "b5089c16",
   "metadata": {},
   "outputs": [],
   "source": [
    "# Misalkan hasil _stopword removal_ disimpan dalam kolom \"Filtered Tokens\"\n",
    "filtered_tokens_df['Stemmed Tokens'] = filtered_tokens_df['Filtered Tokens'].apply(lambda text: ' '.join([stemmer.stem(word) for word in text.split()]))\n"
   ]
  },
  {
   "cell_type": "code",
   "execution_count": 53,
   "id": "04c7db46",
   "metadata": {},
   "outputs": [
    {
     "name": "stdout",
     "output_type": "stream",
     "text": [
      "100 Stem Pertama:\n",
      "Series([], Name: Stemmed Tokens, dtype: float64)\n"
     ]
    }
   ],
   "source": [
    "print(\"100 Stem Pertama:\")\n",
    "print(filtered_tokens_df['Stemmed Tokens'].head(100))\n"
   ]
  }
 ],
 "metadata": {
  "kernelspec": {
   "display_name": "Python 3 (ipykernel)",
   "language": "python",
   "name": "python3"
  },
  "language_info": {
   "codemirror_mode": {
    "name": "ipython",
    "version": 3
   },
   "file_extension": ".py",
   "mimetype": "text/x-python",
   "name": "python",
   "nbconvert_exporter": "python",
   "pygments_lexer": "ipython3",
   "version": "3.11.6"
  }
 },
 "nbformat": 4,
 "nbformat_minor": 5
}
